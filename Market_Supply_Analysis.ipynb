{
 "cells": [
  {
   "cell_type": "markdown",
   "metadata": {},
   "source": [
    "PREDICTING VEGETABLE SALES TREND."
   ]
  },
  {
   "cell_type": "markdown",
   "metadata": {},
   "source": [
    "![Vegetables](Vegetables.jpg)\n"
   ]
  },
  {
   "cell_type": "markdown",
   "metadata": {},
   "source": [
    "\n",
    "OVERVIEW\n",
    "\n",
    "This project is addressing the issue of predicting sales trends for various vegetables sold across different retail chains. The goal is be to provide insights that can help these retail chains optimize their inventory management and pricing strategies.\n",
    "\n",
    "BUSINESS PROBLEM \n",
    "\n",
    "Predicting the sales of specific vegetables based on historical data and current market conditions.\n",
    "\n",
    "DATA UNDERSTANDING\n",
    "\n",
    "For this Analysis i will be using Vegatable retail chain data from Kaggle using the link  [see link](https://www.kaggle.com/datasets/whikechen/simple-vegetable-sale,https://www.kaggle.com/code/ahmadwaleed1/vegetable-retail-chains-eda)\n",
    "\n",
    " "
   ]
  },
  {
   "cell_type": "markdown",
   "metadata": {},
   "source": [
    "Importation"
   ]
  },
  {
   "cell_type": "code",
   "execution_count": 37,
   "metadata": {},
   "outputs": [],
   "source": [
    "\n",
    "#importation of Libraries\n",
    "import pandas as pd\n",
    "import numpy as np\n",
    "import matplotlib.pyplot as plt\n",
    "import seaborn as sns\n",
    "import ipywidgets as widgets\n",
    "from IPython.display import display\n",
    "import plotly.express as px\n",
    "from matplotlib.dates import DateFormatter\n"
   ]
  },
  {
   "cell_type": "markdown",
   "metadata": {},
   "source": [
    "Data Preprocessing\n"
   ]
  },
  {
   "cell_type": "code",
   "execution_count": 38,
   "metadata": {},
   "outputs": [
    {
     "name": "stdout",
     "output_type": "stream",
     "text": [
      "<class 'pandas.core.frame.DataFrame'>\n",
      "RangeIndex: 121 entries, 0 to 120\n",
      "Data columns (total 7 columns):\n",
      " #   Column                           Non-Null Count  Dtype \n",
      "---  ------                           --------------  ----- \n",
      " 0   Vegetable                        121 non-null    object\n",
      " 1   Season                           121 non-null    object\n",
      " 2   Month                            121 non-null    object\n",
      " 3   Temp                             121 non-null    int64 \n",
      " 4   Deasaster Happen in last 3month  121 non-null    object\n",
      " 5   Vegetable condition              121 non-null    object\n",
      " 6   Price per kg                     121 non-null    int64 \n",
      "dtypes: int64(2), object(5)\n",
      "memory usage: 6.7+ KB\n",
      "Index(['Vegetable', 'Season', 'Month', 'Temp',\n",
      "       'Deasaster Happen in last 3month', 'Vegetable condition',\n",
      "       'Price per kg'],\n",
      "      dtype='object')\n"
     ]
    }
   ],
   "source": [
    "#importation of Data\n",
    "\n",
    "#df=pd.read_csv('simple_vegetable_sales_data.csv')\n",
    "df1=pd.read_csv('Vegetable_market.csv')\n",
    "df1\n",
    "\n",
    "df1.info()\n",
    "\n",
    "# #Removing 'Month' column\n",
    "# column_to_remove = 'Month'\n",
    "# if column_to_remove in df1:\n",
    "#     df1.drop(column_to_remove, axis=1, inplace=True)\n",
    "\n",
    "# Save the modified DataFrame back to a CSV file\n",
    "df1.to_csv('modified_file.csv', index=False)\n",
    "#Confirming column was removed\n",
    "print(df1.columns)\n",
    "\n",
    "# Reading the first CSV file into a DataFrame\n",
    "df = pd.read_csv('simple_vegetable_sales_data.csv')\n",
    "\n",
    "# Reading the second CSV file\n",
    "df1 = pd.read_csv('Vegetable_market.csv') \n",
    "\n",
    "# Concatenating dataframes along the rows\n",
    "combined_df = pd.concat([df, df1], ignore_index=True)\n",
    "\n",
    "# Saving the combined data to a new CSV file\n",
    "combined_df.to_csv('combined_files.csv', index=False)"
   ]
  },
  {
   "cell_type": "markdown",
   "metadata": {},
   "source": [
    "Data Cleaning"
   ]
  },
  {
   "cell_type": "code",
   "execution_count": 39,
   "metadata": {},
   "outputs": [
    {
     "name": "stdout",
     "output_type": "stream",
     "text": [
      "<class 'pandas.core.frame.DataFrame'>\n",
      "RangeIndex: 481 entries, 0 to 480\n",
      "Data columns (total 9 columns):\n",
      " #   Column                           Non-Null Count  Dtype  \n",
      "---  ------                           --------------  -----  \n",
      " 0   Month                            481 non-null    object \n",
      " 1   Sales(kg)                        360 non-null    float64\n",
      " 2   Supplier_Name                    360 non-null    object \n",
      " 3   Vegetable                        121 non-null    object \n",
      " 4   Season                           121 non-null    object \n",
      " 5   Temp                             121 non-null    float64\n",
      " 6   Deasaster Happen in last 3month  121 non-null    object \n",
      " 7   Vegetable condition              121 non-null    object \n",
      " 8   Price per kg                     121 non-null    float64\n",
      "dtypes: float64(3), object(6)\n",
      "memory usage: 33.9+ KB\n"
     ]
    }
   ],
   "source": [
    "#DATA CLEANING\n",
    "#combined_df.isna().sum()\n",
    "\n",
    "# Check the shape (rows and columns) of the combined dataset\n",
    "#print(\"Combined Dataset Shape:\", combined_df.shape)\n",
    "\n",
    "combined_df.info() \n",
    "\n",
    "#Checking for missing/null values\n",
    "#combined_df.isnull().sum()\n",
    "#df.dropna(inplace=True) #Removing rows with missing values\n",
    "\n",
    "#Filling\n",
    "\n",
    "# Assuming combined_df is your DataFrame\n",
    "filled_data = combined_df['Price per kg'].fillna(np.mean(combined_df['Price per kg']), inplace=True)\n",
    "filled_data = combined_df['Sales(kg)'].fillna(np.mean(combined_df['Sales(kg)']), inplace=True)\n",
    "\n",
    "#Checking for missing/null values\n",
    "combined_df.isnull().sum()\n",
    "\n",
    "#checking for duplicates\n",
    "#combined_df.duplicated().sum()\n",
    "#Remove Duplicate\n",
    "df_no_duplicates = combined_df.drop_duplicates()\n",
    "\n",
    "# Drop rows with any null values\n",
    "cleaned_df = combined_df.dropna()\n",
    "\n",
    "# Drop columns with any null values\n",
    "cleaned_df = combined_df.dropna(axis=1)\n",
    "\n",
    "# Fill null values with a specific value\n",
    "filled_df = combined_df.fillna(0)\n",
    "\n",
    "# # Display a summary of the merged dataset\n",
    "# print(combined_df.info())\n",
    "# print(combined_df.head())\n"
   ]
  },
  {
   "cell_type": "markdown",
   "metadata": {},
   "source": [
    "Data Analysis"
   ]
  },
  {
   "cell_type": "code",
   "execution_count": 40,
   "metadata": {},
   "outputs": [
    {
     "name": "stdout",
     "output_type": "stream",
     "text": [
      "\n",
      "Total sales per month:\n",
      "Month\n",
      "1         37489.240000\n",
      "2         45818.060000\n",
      "3         51292.070000\n",
      "4         58309.220000\n",
      "5         63525.620000\n",
      "6         68918.820000\n",
      "7         72426.710000\n",
      "8         75437.250000\n",
      "9         76553.770000\n",
      "10        76810.810000\n",
      "11        76081.910000\n",
      "12        74015.030000\n",
      "13        70419.810000\n",
      "14        66435.440000\n",
      "15        61500.770000\n",
      "16        54727.660000\n",
      "17        47969.750000\n",
      "18        41755.470000\n",
      "19        36266.210000\n",
      "20        27663.780000\n",
      "21        21234.690000\n",
      "22        16599.840000\n",
      "23         9151.650000\n",
      "24         5794.390000\n",
      "25         2696.980000\n",
      "26          993.620000\n",
      "27         1374.250000\n",
      "28          762.350000\n",
      "29         2567.630000\n",
      "30         4910.010000\n",
      "31         7679.740000\n",
      "32        12392.590000\n",
      "33        17723.330000\n",
      "34        25998.520000\n",
      "35        30735.710000\n",
      "36        38243.350000\n",
      "          11518.967083\n",
      "apr       92151.736667\n",
      "aug       26877.589861\n",
      "dec       26877.589861\n",
      "jan      207341.407500\n",
      "july      42236.212639\n",
      "june       7679.311389\n",
      "march     11518.967083\n",
      "may       30717.245556\n",
      "oct        3839.655694\n",
      "sept       3839.655694\n",
      "Name: Sales(kg), dtype: float64\n"
     ]
    }
   ],
   "source": [
    "#Seasonal demand analysis\n",
    "\n",
    "# # Group data by month and season, summing the sales for each combination\n",
    "# seasonal_sales = combined_df.groupby(['Month', 'Season', 'Vegetable'])['Sales(kg)'].sum().reset_index()\n",
    "\n",
    "# # Find the most sold vegetable per season\n",
    "# top_selling_per_season = combined_df.loc[combined_df.groupby('Season')['Sales(kg)'].idxmax()]\n",
    "\n",
    "# print(\"Top selling vegetable per season:\")\n",
    "# print(top_selling_per_season)# Display the top-selling vegetable per season\n",
    "\n",
    "\n",
    "# # Calculate total sales per month\n",
    "monthly_sales = combined_df.groupby(['Month'])['Sales(kg)'].sum()\n",
    "\n",
    "# Display total sales per month\n",
    "print(\"\\nTotal sales per month:\")\n",
    "print(monthly_sales)\n"
   ]
  },
  {
   "cell_type": "markdown",
   "metadata": {},
   "source": [
    "Data Visualization"
   ]
  },
  {
   "cell_type": "code",
   "execution_count": 41,
   "metadata": {},
   "outputs": [
    {
     "data": {
      "image/png": "[encoded data removed]",
      "text/plain": [
       "<Figure size 432x288 with 1 Axes>"
      ]
     },
     "metadata": {
      "needs_background": "light"
     },
     "output_type": "display_data"
    }
   ],
   "source": [
    "#Creating a line plot showing sales over time\n",
    "\n",
    "# Create a dictionary that maps numerical months to their abbreviations\n",
    "month_dict = {1: 'Jan', 2: 'Feb', 3: 'Mar', 4: 'Apr', 5: 'May', 6: 'Jun',\n",
    "             7: 'Jul', 8: 'Aug', 9: 'Sep', 10: 'Oct', 11: 'Nov', 12: 'Dec'}\n",
    "\n",
    "# Map the numerical months to their abbreviations\n",
    "combined_df['Month'] = combined_df['Month'].map(month_dict)\n",
    "\n",
    "# Convert the 'Month' column to datetime objects\n",
    "combined_df['Month'] = pd.to_datetime(combined_df['Month'], format='%b')\n",
    "\n",
    "# Sort the DataFrame by 'Month'\n",
    "combined_df = combined_df.sort_values('Month')\n",
    "\n",
    "# Convert the DataFrame to a numpy array\n",
    "months = combined_df['Month'].to_numpy()\n",
    "sales = combined_df['Sales(kg)'].to_numpy()\n",
    "\n",
    "# Plot the data\n",
    "plt.plot(months, sales)\n",
    "plt.title('Sales Over Time')\n",
    "plt.xlabel('Date')\n",
    "plt.ylabel('Sales')\n",
    "\n",
    "# Format the x-axis as dates\n",
    "ax = plt.gca()\n",
    "date_format = DateFormatter(\"%b\")\n",
    "ax.xaxis.set_major_formatter(date_format)\n",
    "\n",
    "plt.show()\n",
    "\n",
    "\n",
    "\n"
   ]
  },
  {
   "cell_type": "code",
   "execution_count": 42,
   "metadata": {},
   "outputs": [
    {
     "data": {
      "image/png": "[encoded data removed]",
      "text/plain": [
       "<Figure size 720x576 with 1 Axes>"
      ]
     },
     "metadata": {
      "needs_background": "light"
     },
     "output_type": "display_data"
    }
   ],
   "source": [
    "\n",
    "#Scatter plot visualizing how temperature varies concerning different vegetables with points colored based on disaster occurence and sized based on vegetable conditions\n",
    "plt.figure(figsize=(10, 8))\n",
    "sns.scatterplot(x='Vegetable', y='Temp', hue='Deasaster Happen in last 3month', size='Vegetable condition',\n",
    "                sizes=(20, 200), alpha=0.7, data=combined_df, palette='viridis')\n",
    "plt.title('Temperature vs Vegetable with Disaster Occurrence')\n",
    "plt.xlabel('Vegetable')\n",
    "plt.ylabel('Temperature')\n",
    "plt.legend(title='Disaster')\n",
    "plt.xticks(rotation=45)\n",
    "plt.tight_layout()\n",
    "plt.show()\n",
    "#Visualization shows how the temprature varies with different vegatables, considering the occurence of disasters and the condition of the vegatables.\n",
    "#Radish ,bitter guard,onions have not incured any disaster in the last 3months and they grow well in all conditions\n",
    "#Not that Califlower has lower temps when there is no disaster whereas Danish and onions have how temp with no disaster\n",
    "#Most vegatables grow at a temp of between 25-35"
   ]
  },
  {
   "cell_type": "code",
   "execution_count": 43,
   "metadata": {},
   "outputs": [
    {
     "data": {
      "image/png": "[encoded data removed]",
      "text/plain": [
       "<Figure size 720x432 with 1 Axes>"
      ]
     },
     "metadata": {
      "needs_background": "light"
     },
     "output_type": "display_data"
    }
   ],
   "source": [
    "# Grouped Bar Chart visual representation of price analysis of different vegatables across seasons\n",
    "plt.figure(figsize=(10, 6))  # Adjust the figure size if needed\n",
    "\n",
    "sns.barplot(x='Season', y='Price per kg', hue='Vegetable', data=combined_df)\n",
    "plt.title('Vegetable Price Analysis Across Season')\n",
    "plt.xlabel('Season')\n",
    "plt.ylabel('Price per kg')\n",
    "plt.legend(title='Vegetable', bbox_to_anchor=(1, 1), loc='upper left')  # Adjust legend position\n",
    "\n",
    "plt.show()\n",
    "#Each bar represents a season, divided into segments representing different vegatable making it easy to compare prices across both seasons and different types of vegetables at a glance\n",
    "#Vegetables like Tomatoes,peas do weel during monsoon season whereas brinjal,ginger okra do well during the summer\n",
    "#Prices of differnt vegetables tend to go higher during late summer and early monsoon season \n",
    "#Onions have high prices in during autum"
   ]
  },
  {
   "cell_type": "code",
   "execution_count": 44,
   "metadata": {},
   "outputs": [
    {
     "data": {
      "image/png": "[encoded data removed]",
      "text/plain": [
       "<Figure size 720x432 with 1 Axes>"
      ]
     },
     "metadata": {
      "needs_background": "light"
     },
     "output_type": "display_data"
    }
   ],
   "source": [
    "#Visualization\n",
    "#Bar plot  visualizing comparing sales performance(kg) of different suppliers\n",
    "plt.figure(figsize=(10, 6))\n",
    "bar_plot = sns.barplot(x='Supplier_Name', y='Sales(kg)', data=combined_df, estimator=np.mean, palette='viridis')\n",
    "for p in bar_plot.patches:\n",
    "    bar_plot.annotate(format(p.get_height(), '.2f'), \n",
    "    #Iterating over all the bars in the plot, for each bar it annotates the bar with the corresponding sales value formated to 2 decimal points\n",
    "                      (p.get_x() + p.get_width() / 2., p.get_height()), \n",
    "                      ha = 'center', va = 'center', \n",
    "                      xytext = (0, 10), \n",
    "                      textcoords = 'offset points')\n",
    "plt.show()\n",
    "\n",
    "\n",
    "#Lidi has the highest sales of 4865.25 followed bt Shwarz with 4697.35\n",
    "#Target has the lowest sales"
   ]
  },
  {
   "cell_type": "code",
   "execution_count": 45,
   "metadata": {},
   "outputs": [
    {
     "data": {
      "application/vnd.plotly.v1+json": {
       "config": {
        "plotlyServerURL": "https://plot.ly"
       },
       "data": [
        {
         "hovertemplate": "Supplier=Aldi<br>Month=%{x}<br>Mean Sales=%{y}<extra></extra>",
         "legendgroup": "Aldi",
         "line": {
          "color": "#636efa",
          "dash": "solid"
         },
         "mode": "lines",
         "name": "Aldi",
         "orientation": "v",
         "showlegend": true,
         "type": "scatter",
         "x": [
          1,
          2,
          3,
          4,
          5,
          6,
          7,
          8,
          9,
          10,
          11,
          12,
          13,
          14,
          15,
          16,
          17,
          18,
          19,
          20,
          21,
          22,
          23,
          24,
          25,
          26,
          27,
          28,
          29,
          30,
          31,
          32,
          33,
          34,
          35,
          36
         ],
         "xaxis": "x",
         "y": [
          3251.27,
          3722.32,
          4645.63,
          4732.65,
          5193.56,
          5740.74,
          6051.75,
          6767.74,
          6702.21,
          6556.15,
          6214.83,
          6447.58,
          5800.78,
          5326.25,
          5431.19,
          4753.57,
          4325.33,
          3627.92,
          3149.12,
          2270.56,
          1644.9,
          1484.66,
          746.05,
          403.2,
          172.12,
          85.51,
          -67.51,
          -245.39,
          31.37,
          -54.11,
          838.67,
          798.46,
          1372.41,
          2132.06,
          2539,
          3579.57
         ],
         "yaxis": "y"
        },
        {
         "hovertemplate": "Supplier=Carrefour<br>Month=%{x}<br>Mean Sales=%{y}<extra></extra>",
         "legendgroup": "Carrefour",
         "line": {
          "color": "#EF553B",
          "dash": "solid"
         },
         "mode": "lines",
         "name": "Carrefour",
         "orientation": "v",
         "showlegend": true,
         "type": "scatter",
         "x": [
          1,
          2,
          3,
          4,
          5,
          6,
          7,
          8,
          9,
          10,
          11,
          12,
          13,
          14,
          15,
          16,
          17,
          18,
          19,
          20,
          21,
          22,
          23,
          24,
          25,
          26,
          27,
          28,
          29,
          30,
          31,
          32,
          33,
          34,
          35,
          36
         ],
         "xaxis": "x",
         "y": [
          3895.01,
          5041.29,
          5279.44,
          6229.28,
          6694,
          7464.08,
          7693.98,
          7852.11,
          8247.98,
          8372.63,
          8200.5,
          8018.03,
          7478.48,
          7069.42,
          6447.78,
          5872.35,
          5085.81,
          4171.92,
          3809.45,
          2962.34,
          2020.83,
          1801.42,
          967.71,
          696.18,
          479.42,
          129.73,
          232.05,
          -209.45,
          283.37,
          358.04,
          730.27,
          1302.27,
          1957,
          2700.15,
          3172.32,
          4325.73
         ],
         "yaxis": "y"
        },
        {
         "hovertemplate": "Supplier=Costco<br>Month=%{x}<br>Mean Sales=%{y}<extra></extra>",
         "legendgroup": "Costco",
         "line": {
          "color": "#00cc96",
          "dash": "solid"
         },
         "mode": "lines",
         "name": "Costco",
         "orientation": "v",
         "showlegend": true,
         "type": "scatter",
         "x": [
          1,
          2,
          3,
          4,
          5,
          6,
          7,
          8,
          9,
          10,
          11,
          12,
          13,
          14,
          15,
          16,
          17,
          18,
          19,
          20,
          21,
          22,
          23,
          24,
          25,
          26,
          27,
          28,
          29,
          30,
          31,
          32,
          33,
          34,
          35,
          36
         ],
         "xaxis": "x",
         "y": [
          3344.06,
          3950.71,
          4357.32,
          4964.29,
          5207.54,
          5804.12,
          6121.39,
          6546.6,
          6364.31,
          6778.43,
          6841.36,
          5944.94,
          6162.76,
          5842.59,
          5132.47,
          4670.66,
          4167.5,
          3550.16,
          2954.01,
          2096.24,
          2105.87,
          1581.49,
          755.64,
          254.73,
          370.8,
          -32.1,
          31.73,
          -33.88,
          300.45,
          534.51,
          577.62,
          856.49,
          1297.06,
          2270.82,
          2483.47,
          3211.4
         ],
         "yaxis": "y"
        },
        {
         "hovertemplate": "Supplier=Kroger<br>Month=%{x}<br>Mean Sales=%{y}<extra></extra>",
         "legendgroup": "Kroger",
         "line": {
          "color": "#ab63fa",
          "dash": "solid"
         },
         "mode": "lines",
         "name": "Kroger",
         "orientation": "v",
         "showlegend": true,
         "type": "scatter",
         "x": [
          1,
          2,
          3,
          4,
          5,
          6,
          7,
          8,
          9,
          10,
          11,
          12,
          13,
          14,
          15,
          16,
          17,
          18,
          19,
          20,
          21,
          22,
          23,
          24,
          25,
          26,
          27,
          28,
          29,
          30,
          31,
          32,
          33,
          34,
          35,
          36
         ],
         "xaxis": "x",
         "y": [
          3679.11,
          4694.19,
          5313.43,
          5723.7,
          6633.09,
          6981.98,
          7559.55,
          7847.34,
          8272.37,
          8138.71,
          7702.8,
          7510.61,
          7443.9,
          6914.87,
          6380.22,
          5322.79,
          4980.39,
          4143.05,
          3640.7,
          2870.48,
          2411.22,
          1686.61,
          1248.81,
          558.11,
          127.98,
          16.72,
          0.56,
          111.47,
          644.59,
          461.73,
          667.89,
          1277.73,
          1825.33,
          2650.38,
          2926.42,
          3950.33
         ],
         "yaxis": "y"
        },
        {
         "hovertemplate": "Supplier=Lidl<br>Month=%{x}<br>Mean Sales=%{y}<extra></extra>",
         "legendgroup": "Lidl",
         "line": {
          "color": "#FFA15A",
          "dash": "solid"
         },
         "mode": "lines",
         "name": "Lidl",
         "orientation": "v",
         "showlegend": true,
         "type": "scatter",
         "x": [
          1,
          2,
          3,
          4,
          5,
          6,
          7,
          8,
          9,
          10,
          11,
          12,
          13,
          14,
          15,
          16,
          17,
          18,
          19,
          20,
          21,
          22,
          23,
          24,
          25,
          26,
          27,
          28,
          29,
          30,
          31,
          32,
          33,
          34,
          35,
          36
         ],
         "xaxis": "x",
         "y": [
          4811.1,
          5838.32,
          6348.25,
          7731.2,
          8085.33,
          8578.88,
          9331.25,
          9450.45,
          9470.86,
          9507.71,
          9798.1,
          9356.47,
          8946.14,
          8641.72,
          7540.47,
          6866.97,
          6115.2,
          5348.28,
          4444.13,
          3532.43,
          2756.54,
          1994.68,
          1211.89,
          646.5,
          448.49,
          -55.56,
          -226.55,
          -18.19,
          207.85,
          1035.35,
          926.12,
          1861.67,
          2531.84,
          2934.63,
          4172.32,
          4654.21
         ],
         "yaxis": "y"
        },
        {
         "hovertemplate": "Supplier=Metro<br>Month=%{x}<br>Mean Sales=%{y}<extra></extra>",
         "legendgroup": "Metro",
         "line": {
          "color": "#19d3f3",
          "dash": "solid"
         },
         "mode": "lines",
         "name": "Metro",
         "orientation": "v",
         "showlegend": true,
         "type": "scatter",
         "x": [
          1,
          2,
          3,
          4,
          5,
          6,
          7,
          8,
          9,
          10,
          11,
          12,
          13,
          14,
          15,
          16,
          17,
          18,
          19,
          20,
          21,
          22,
          23,
          24,
          25,
          26,
          27,
          28,
          29,
          30,
          31,
          32,
          33,
          34,
          35,
          36
         ],
         "xaxis": "x",
         "y": [
          3757.47,
          4468.08,
          4987.06,
          5278.98,
          6085.67,
          6741.61,
          6696.39,
          7061.48,
          7149.37,
          7635.49,
          7312.63,
          7058.3,
          6514.05,
          6369.61,
          5636.18,
          5218.03,
          4474.43,
          4095.74,
          3424.16,
          2626.04,
          2136.84,
          1279.64,
          709.29,
          689.15,
          325.82,
          218.13,
          480.29,
          221.79,
          -4.67,
          657.4,
          529.78,
          1150.96,
          1756.79,
          2700.19,
          2836.71,
          3469.36
         ],
         "yaxis": "y"
        },
        {
         "hovertemplate": "Supplier=Schwarz<br>Month=%{x}<br>Mean Sales=%{y}<extra></extra>",
         "legendgroup": "Schwarz",
         "line": {
          "color": "#FF6692",
          "dash": "solid"
         },
         "mode": "lines",
         "name": "Schwarz",
         "orientation": "v",
         "showlegend": true,
         "type": "scatter",
         "x": [
          1,
          2,
          3,
          4,
          5,
          6,
          7,
          8,
          9,
          10,
          11,
          12,
          13,
          14,
          15,
          16,
          17,
          18,
          19,
          20,
          21,
          22,
          23,
          24,
          25,
          26,
          27,
          28,
          29,
          30,
          31,
          32,
          33,
          34,
          35,
          36
         ],
         "xaxis": "x",
         "y": [
          4556.06,
          5499.62,
          5930.85,
          7111.04,
          7856.17,
          8348.32,
          8730.21,
          9141.29,
          9388.13,
          8791.41,
          9624.6,
          9052.42,
          8446.73,
          7976.42,
          7522.15,
          6680.64,
          5512.99,
          5507.31,
          4234.12,
          3635.55,
          2508.36,
          2234.51,
          1353.29,
          895.19,
          167.18,
          359.45,
          142.67,
          302.68,
          103.21,
          462.05,
          1480.79,
          1387.24,
          2250.16,
          3259.91,
          3860.05,
          4791.91
         ],
         "yaxis": "y"
        },
        {
         "hovertemplate": "Supplier=Target<br>Month=%{x}<br>Mean Sales=%{y}<extra></extra>",
         "legendgroup": "Target",
         "line": {
          "color": "#B6E880",
          "dash": "solid"
         },
         "mode": "lines",
         "name": "Target",
         "orientation": "v",
         "showlegend": true,
         "type": "scatter",
         "x": [
          1,
          2,
          3,
          4,
          5,
          6,
          7,
          8,
          9,
          10,
          11,
          12,
          13,
          14,
          15,
          16,
          17,
          18,
          19,
          20,
          21,
          22,
          23,
          24,
          25,
          26,
          27,
          28,
          29,
          30,
          31,
          32,
          33,
          34,
          35,
          36
         ],
         "xaxis": "x",
         "y": [
          2618.49,
          3834.1,
          3906.09,
          4856.31,
          5086.24,
          5945.26,
          6138.19,
          6055.78,
          6134.57,
          6054.66,
          6133.48,
          5991.06,
          5706.56,
          5458.7,
          5117.74,
          4587.13,
          3835.6,
          3145.16,
          3140.84,
          2174.33,
          1652.99,
          1194.37,
          504.67,
          425.55,
          157.58,
          203.06,
          142.86,
          29.27,
          340.56,
          444.16,
          684.17,
          1109.79,
          1496.39,
          1964.41,
          2534.27,
          2924.72
         ],
         "yaxis": "y"
        },
        {
         "hovertemplate": "Supplier=Tesco<br>Month=%{x}<br>Mean Sales=%{y}<extra></extra>",
         "legendgroup": "Tesco",
         "line": {
          "color": "#FF97FF",
          "dash": "solid"
         },
         "mode": "lines",
         "name": "Tesco",
         "orientation": "v",
         "showlegend": true,
         "type": "scatter",
         "x": [
          1,
          2,
          3,
          4,
          5,
          6,
          7,
          8,
          9,
          10,
          11,
          12,
          13,
          14,
          15,
          16,
          17,
          18,
          19,
          20,
          21,
          22,
          23,
          24,
          25,
          26,
          27,
          28,
          29,
          30,
          31,
          32,
          33,
          34,
          35,
          36
         ],
         "xaxis": "x",
         "y": [
          3901.42,
          4181.04,
          5444.08,
          6140.74,
          6549.67,
          6749.75,
          6947.7,
          7641.08,
          7501.48,
          7857.23,
          7562.75,
          7505.45,
          7057.86,
          6702.22,
          6048.85,
          5817.82,
          4846.82,
          4230.06,
          3843.55,
          2525.59,
          1901.84,
          1763.71,
          821.05,
          1018.72,
          223.74,
          -54.01,
          388.42,
          330.57,
          559.9,
          635.94,
          658.6,
          1684.68,
          1801.42,
          2630.64,
          3317.74,
          3777.29
         ],
         "yaxis": "y"
        },
        {
         "hovertemplate": "Supplier=Walmart<br>Month=%{x}<br>Mean Sales=%{y}<extra></extra>",
         "legendgroup": "Walmart",
         "line": {
          "color": "#FECB52",
          "dash": "solid"
         },
         "mode": "lines",
         "name": "Walmart",
         "orientation": "v",
         "showlegend": true,
         "type": "scatter",
         "x": [
          1,
          2,
          3,
          4,
          5,
          6,
          7,
          8,
          9,
          10,
          11,
          12,
          13,
          14,
          15,
          16,
          17,
          18,
          19,
          20,
          21,
          22,
          23,
          24,
          25,
          26,
          27,
          28,
          29,
          30,
          31,
          32,
          33,
          34,
          35,
          36
         ],
         "xaxis": "x",
         "y": [
          3675.25,
          4588.39,
          5079.92,
          5541.03,
          6134.35,
          6564.08,
          7156.3,
          7073.38,
          7322.49,
          7118.39,
          6690.86,
          7130.17,
          6862.55,
          6133.64,
          6243.72,
          4937.7,
          4625.68,
          3935.87,
          3626.13,
          2970.22,
          2095.3,
          1578.75,
          833.25,
          207.06,
          223.85,
          122.69,
          249.73,
          273.48,
          101,
          374.94,
          585.83,
          963.3,
          1434.93,
          2755.33,
          2893.41,
          3558.83
         ],
         "yaxis": "y"
        }
       ],
       "layout": {
        "legend": {
         "title": {
          "text": "Supplier"
         },
         "tracegroupgap": 0
        },
        "template": {
         "data": {
          "bar": [
           {
            "error_x": {
             "color": "#2a3f5f"
            },
            "error_y": {
             "color": "#2a3f5f"
            },
            "marker": {
             "line": {
              "color": "#E5ECF6",
              "width": 0.5
             }
            },
            "type": "bar"
           }
          ],
          "barpolar": [
           {
            "marker": {
             "line": {
              "color": "#E5ECF6",
              "width": 0.5
             }
            },
            "type": "barpolar"
           }
          ],
          "carpet": [
           {
            "aaxis": {
             "endlinecolor": "#2a3f5f",
             "gridcolor": "white",
             "linecolor": "white",
             "minorgridcolor": "white",
             "startlinecolor": "#2a3f5f"
            },
            "baxis": {
             "endlinecolor": "#2a3f5f",
             "gridcolor": "white",
             "linecolor": "white",
             "minorgridcolor": "white",
             "startlinecolor": "#2a3f5f"
            },
            "type": "carpet"
           }
          ],
          "choropleth": [
           {
            "colorbar": {
             "outlinewidth": 0,
             "ticks": ""
            },
            "type": "choropleth"
           }
          ],
          "contour": [
           {
            "colorbar": {
             "outlinewidth": 0,
             "ticks": ""
            },
            "colorscale": [
             [
              0,
              "#0d0887"
             ],
             [
              0.1111111111111111,
              "#46039f"
             ],
             [
              0.2222222222222222,
              "#7201a8"
             ],
             [
              0.3333333333333333,
              "#9c179e"
             ],
             [
              0.4444444444444444,
              "#bd3786"
             ],
             [
              0.5555555555555556,
              "#d8576b"
             ],
             [
              0.6666666666666666,
              "#ed7953"
             ],
             [
              0.7777777777777778,
              "#fb9f3a"
             ],
             [
              0.8888888888888888,
              "#fdca26"
             ],
             [
              1,
              "#f0f921"
             ]
            ],
            "type": "contour"
           }
          ],
          "contourcarpet": [
           {
            "colorbar": {
             "outlinewidth": 0,
             "ticks": ""
            },
            "type": "contourcarpet"
           }
          ],
          "heatmap": [
           {
            "colorbar": {
             "outlinewidth": 0,
             "ticks": ""
            },
            "colorscale": [
             [
              0,
              "#0d0887"
             ],
             [
              0.1111111111111111,
              "#46039f"
             ],
             [
              0.2222222222222222,
              "#7201a8"
             ],
             [
              0.3333333333333333,
              "#9c179e"
             ],
             [
              0.4444444444444444,
              "#bd3786"
             ],
             [
              0.5555555555555556,
              "#d8576b"
             ],
             [
              0.6666666666666666,
              "#ed7953"
             ],
             [
              0.7777777777777778,
              "#fb9f3a"
             ],
             [
              0.8888888888888888,
              "#fdca26"
             ],
             [
              1,
              "#f0f921"
             ]
            ],
            "type": "heatmap"
           }
          ],
          "heatmapgl": [
           {
            "colorbar": {
             "outlinewidth": 0,
             "ticks": ""
            },
            "colorscale": [
             [
              0,
              "#0d0887"
             ],
             [
              0.1111111111111111,
              "#46039f"
             ],
             [
              0.2222222222222222,
              "#7201a8"
             ],
             [
              0.3333333333333333,
              "#9c179e"
             ],
             [
              0.4444444444444444,
              "#bd3786"
             ],
             [
              0.5555555555555556,
              "#d8576b"
             ],
             [
              0.6666666666666666,
              "#ed7953"
             ],
             [
              0.7777777777777778,
              "#fb9f3a"
             ],
             [
              0.8888888888888888,
              "#fdca26"
             ],
             [
              1,
              "#f0f921"
             ]
            ],
            "type": "heatmapgl"
           }
          ],
          "histogram": [
           {
            "marker": {
             "colorbar": {
              "outlinewidth": 0,
              "ticks": ""
             }
            },
            "type": "histogram"
           }
          ],
          "histogram2d": [
           {
            "colorbar": {
             "outlinewidth": 0,
             "ticks": ""
            },
            "colorscale": [
             [
              0,
              "#0d0887"
             ],
             [
              0.1111111111111111,
              "#46039f"
             ],
             [
              0.2222222222222222,
              "#7201a8"
             ],
             [
              0.3333333333333333,
              "#9c179e"
             ],
             [
              0.4444444444444444,
              "#bd3786"
             ],
             [
              0.5555555555555556,
              "#d8576b"
             ],
             [
              0.6666666666666666,
              "#ed7953"
             ],
             [
              0.7777777777777778,
              "#fb9f3a"
             ],
             [
              0.8888888888888888,
              "#fdca26"
             ],
             [
              1,
              "#f0f921"
             ]
            ],
            "type": "histogram2d"
           }
          ],
          "histogram2dcontour": [
           {
            "colorbar": {
             "outlinewidth": 0,
             "ticks": ""
            },
            "colorscale": [
             [
              0,
              "#0d0887"
             ],
             [
              0.1111111111111111,
              "#46039f"
             ],
             [
              0.2222222222222222,
              "#7201a8"
             ],
             [
              0.3333333333333333,
              "#9c179e"
             ],
             [
              0.4444444444444444,
              "#bd3786"
             ],
             [
              0.5555555555555556,
              "#d8576b"
             ],
             [
              0.6666666666666666,
              "#ed7953"
             ],
             [
              0.7777777777777778,
              "#fb9f3a"
             ],
             [
              0.8888888888888888,
              "#fdca26"
             ],
             [
              1,
              "#f0f921"
             ]
            ],
            "type": "histogram2dcontour"
           }
          ],
          "mesh3d": [
           {
            "colorbar": {
             "outlinewidth": 0,
             "ticks": ""
            },
            "type": "mesh3d"
           }
          ],
          "parcoords": [
           {
            "line": {
             "colorbar": {
              "outlinewidth": 0,
              "ticks": ""
             }
            },
            "type": "parcoords"
           }
          ],
          "pie": [
           {
            "automargin": true,
            "type": "pie"
           }
          ],
          "scatter": [
           {
            "marker": {
             "colorbar": {
              "outlinewidth": 0,
              "ticks": ""
             }
            },
            "type": "scatter"
           }
          ],
          "scatter3d": [
           {
            "line": {
             "colorbar": {
              "outlinewidth": 0,
              "ticks": ""
             }
            },
            "marker": {
             "colorbar": {
              "outlinewidth": 0,
              "ticks": ""
             }
            },
            "type": "scatter3d"
           }
          ],
          "scattercarpet": [
           {
            "marker": {
             "colorbar": {
              "outlinewidth": 0,
              "ticks": ""
             }
            },
            "type": "scattercarpet"
           }
          ],
          "scattergeo": [
           {
            "marker": {
             "colorbar": {
              "outlinewidth": 0,
              "ticks": ""
             }
            },
            "type": "scattergeo"
           }
          ],
          "scattergl": [
           {
            "marker": {
             "colorbar": {
              "outlinewidth": 0,
              "ticks": ""
             }
            },
            "type": "scattergl"
           }
          ],
          "scattermapbox": [
           {
            "marker": {
             "colorbar": {
              "outlinewidth": 0,
              "ticks": ""
             }
            },
            "type": "scattermapbox"
           }
          ],
          "scatterpolar": [
           {
            "marker": {
             "colorbar": {
              "outlinewidth": 0,
              "ticks": ""
             }
            },
            "type": "scatterpolar"
           }
          ],
          "scatterpolargl": [
           {
            "marker": {
             "colorbar": {
              "outlinewidth": 0,
              "ticks": ""
             }
            },
            "type": "scatterpolargl"
           }
          ],
          "scatterternary": [
           {
            "marker": {
             "colorbar": {
              "outlinewidth": 0,
              "ticks": ""
             }
            },
            "type": "scatterternary"
           }
          ],
          "surface": [
           {
            "colorbar": {
             "outlinewidth": 0,
             "ticks": ""
            },
            "colorscale": [
             [
              0,
              "#0d0887"
             ],
             [
              0.1111111111111111,
              "#46039f"
             ],
             [
              0.2222222222222222,
              "#7201a8"
             ],
             [
              0.3333333333333333,
              "#9c179e"
             ],
             [
              0.4444444444444444,
              "#bd3786"
             ],
             [
              0.5555555555555556,
              "#d8576b"
             ],
             [
              0.6666666666666666,
              "#ed7953"
             ],
             [
              0.7777777777777778,
              "#fb9f3a"
             ],
             [
              0.8888888888888888,
              "#fdca26"
             ],
             [
              1,
              "#f0f921"
             ]
            ],
            "type": "surface"
           }
          ],
          "table": [
           {
            "cells": {
             "fill": {
              "color": "#EBF0F8"
             },
             "line": {
              "color": "white"
             }
            },
            "header": {
             "fill": {
              "color": "#C8D4E3"
             },
             "line": {
              "color": "white"
             }
            },
            "type": "table"
           }
          ]
         },
         "layout": {
          "annotationdefaults": {
           "arrowcolor": "#2a3f5f",
           "arrowhead": 0,
           "arrowwidth": 1
          },
          "coloraxis": {
           "colorbar": {
            "outlinewidth": 0,
            "ticks": ""
           }
          },
          "colorscale": {
           "diverging": [
            [
             0,
             "#8e0152"
            ],
            [
             0.1,
             "#c51b7d"
            ],
            [
             0.2,
             "#de77ae"
            ],
            [
             0.3,
             "#f1b6da"
            ],
            [
             0.4,
             "#fde0ef"
            ],
            [
             0.5,
             "#f7f7f7"
            ],
            [
             0.6,
             "#e6f5d0"
            ],
            [
             0.7,
             "#b8e186"
            ],
            [
             0.8,
             "#7fbc41"
            ],
            [
             0.9,
             "#4d9221"
            ],
            [
             1,
             "#276419"
            ]
           ],
           "sequential": [
            [
             0,
             "#0d0887"
            ],
            [
             0.1111111111111111,
             "#46039f"
            ],
            [
             0.2222222222222222,
             "#7201a8"
            ],
            [
             0.3333333333333333,
             "#9c179e"
            ],
            [
             0.4444444444444444,
             "#bd3786"
            ],
            [
             0.5555555555555556,
             "#d8576b"
            ],
            [
             0.6666666666666666,
             "#ed7953"
            ],
            [
             0.7777777777777778,
             "#fb9f3a"
            ],
            [
             0.8888888888888888,
             "#fdca26"
            ],
            [
             1,
             "#f0f921"
            ]
           ],
           "sequentialminus": [
            [
             0,
             "#0d0887"
            ],
            [
             0.1111111111111111,
             "#46039f"
            ],
            [
             0.2222222222222222,
             "#7201a8"
            ],
            [
             0.3333333333333333,
             "#9c179e"
            ],
            [
             0.4444444444444444,
             "#bd3786"
            ],
            [
             0.5555555555555556,
             "#d8576b"
            ],
            [
             0.6666666666666666,
             "#ed7953"
            ],
            [
             0.7777777777777778,
             "#fb9f3a"
            ],
            [
             0.8888888888888888,
             "#fdca26"
            ],
            [
             1,
             "#f0f921"
            ]
           ]
          },
          "colorway": [
           "#636efa",
           "#EF553B",
           "#00cc96",
           "#ab63fa",
           "#FFA15A",
           "#19d3f3",
           "#FF6692",
           "#B6E880",
           "#FF97FF",
           "#FECB52"
          ],
          "font": {
           "color": "#2a3f5f"
          },
          "geo": {
           "bgcolor": "white",
           "lakecolor": "white",
           "landcolor": "#E5ECF6",
           "showlakes": true,
           "showland": true,
           "subunitcolor": "white"
          },
          "hoverlabel": {
           "align": "left"
          },
          "hovermode": "closest",
          "mapbox": {
           "style": "light"
          },
          "paper_bgcolor": "white",
          "plot_bgcolor": "#E5ECF6",
          "polar": {
           "angularaxis": {
            "gridcolor": "white",
            "linecolor": "white",
            "ticks": ""
           },
           "bgcolor": "#E5ECF6",
           "radialaxis": {
            "gridcolor": "white",
            "linecolor": "white",
            "ticks": ""
           }
          },
          "scene": {
           "xaxis": {
            "backgroundcolor": "#E5ECF6",
            "gridcolor": "white",
            "gridwidth": 2,
            "linecolor": "white",
            "showbackground": true,
            "ticks": "",
            "zerolinecolor": "white"
           },
           "yaxis": {
            "backgroundcolor": "#E5ECF6",
            "gridcolor": "white",
            "gridwidth": 2,
            "linecolor": "white",
            "showbackground": true,
            "ticks": "",
            "zerolinecolor": "white"
           },
           "zaxis": {
            "backgroundcolor": "#E5ECF6",
            "gridcolor": "white",
            "gridwidth": 2,
            "linecolor": "white",
            "showbackground": true,
            "ticks": "",
            "zerolinecolor": "white"
           }
          },
          "shapedefaults": {
           "line": {
            "color": "#2a3f5f"
           }
          },
          "ternary": {
           "aaxis": {
            "gridcolor": "white",
            "linecolor": "white",
            "ticks": ""
           },
           "baxis": {
            "gridcolor": "white",
            "linecolor": "white",
            "ticks": ""
           },
           "bgcolor": "#E5ECF6",
           "caxis": {
            "gridcolor": "white",
            "linecolor": "white",
            "ticks": ""
           }
          },
          "title": {
           "x": 0.05
          },
          "xaxis": {
           "automargin": true,
           "gridcolor": "white",
           "linecolor": "white",
           "ticks": "",
           "title": {
            "standoff": 15
           },
           "zerolinecolor": "white",
           "zerolinewidth": 2
          },
          "yaxis": {
           "automargin": true,
           "gridcolor": "white",
           "linecolor": "white",
           "ticks": "",
           "title": {
            "standoff": 15
           },
           "zerolinecolor": "white",
           "zerolinewidth": 2
          }
         }
        },
        "title": {
         "text": "Mean Sales per Supplier across Months"
        },
        "xaxis": {
         "anchor": "y",
         "domain": [
          0,
          1
         ],
         "title": {
          "text": "Month"
         }
        },
        "yaxis": {
         "anchor": "x",
         "domain": [
          0,
          1
         ],
         "title": {
          "text": "Mean Sales"
         }
        }
       }
      }
     },
     "metadata": {},
     "output_type": "display_data"
    }
   ],
   "source": [
    "#Visualizing mean sales per supplier across different months using Plotly express\n",
    "#\n",
    "supplier_means = df.pivot_table(values='Sales(kg)', index='Month', columns='Supplier_Name', aggfunc='mean')\n",
    "\n",
    "# Resetting index to ensure 'Month' becomes a column (optional, depending on the DataFrame structure)\n",
    "supplier_means = supplier_means.reset_index() #Used reset_index() method to reset the index of the pivot tables\n",
    "\n",
    "# Melt the DataFrame to transform 'Supplier_Name' columns into a single column for the line plot\n",
    "melted_supplier_means = supplier_means.melt(id_vars='Month', var_name='Supplier_Name', value_name='Mean_Sales') #used met() function to tranform the pivot table so that 'Supplier_name' becomes a single column\n",
    "#ploting a line plot\n",
    "fig = px.line(melted_supplier_means, x='Month', y='Mean_Sales', color='Supplier_Name',\n",
    "              title='Mean Sales per Supplier across Months',\n",
    "              labels={'Month': 'Month', 'Mean_Sales': 'Mean Sales', 'Supplier_Name': 'Supplier'})\n",
    "fig.show()\n",
    "   \n",
    "#Sales increase from the 5th to 15 month and saes started decreasing from the 20th to 30th month"
   ]
  },
  {
   "cell_type": "code",
   "execution_count": 46,
   "metadata": {},
   "outputs": [
    {
     "data": {
      "image/png": "[encoded data removed]",
      "text/plain": [
       "<Figure size 720x576 with 2 Axes>"
      ]
     },
     "metadata": {
      "needs_background": "light"
     },
     "output_type": "display_data"
    }
   ],
   "source": [
    "#Heatmap showing how the sales of different suppliers correlate with each other over time.\n",
    "pivot_table = combined_df.pivot_table(index='Month', columns='Supplier_Name', values='Sales(kg)', aggfunc='sum')\n",
    "\n",
    "# Calculate the correlation matrix among suppliers' market supply\n",
    "correlation_matrix = pivot_table.corr()\n",
    "\n",
    "# Plotting the correlation heatmap\n",
    "plt.figure(figsize=(10, 8))\n",
    "sns.heatmap(correlation_matrix, annot=True, cmap='coolwarm', linewidths=.5)\n",
    "plt.title('Correlation of Market Share Among Suppliers')\n",
    "plt.show()\n",
    "\n",
    "# Two suppliers with hight positive correlation means that when one supplier has high sales, the other also tends to have high sales\n",
    "# When two suppliers have high negative correlation e.g  Metro & Walmart, it means that when one supplier has high sales, the other tends to have low sales"
   ]
  },
  {
   "cell_type": "markdown",
   "metadata": {},
   "source": [
    "Conclusion"
   ]
  },
  {
   "cell_type": "markdown",
   "metadata": {},
   "source": [
    "\n",
    "\n",
    "1. Seasonal Trends:\n",
    "   - The bar chart effectively illustrates seasonal patterns, allowing easy comparison of prices across seasons and different vegetable types.\n",
    "   - Certain vegetables, such as tomatoes and peas, perform well during the monsoon season, while brinjal, ginger, and okra thrive in the summer.\n",
    "   - Prices for different vegetables tend to peak during late summer and early monsoon seasons.\n",
    "   - Onions exhibit higher prices during autumn.\n",
    "\n",
    "2. Sales Patterns:\n",
    "   - Lidi stands out with the highest sales of $4865.25, followed by Schwarz with $4697.35.\n",
    "   - Sales generally increase from the 5th to the 15th month but start decreasing from the 20th to the 30th month.\n",
    "   - Target has the lowest sales among the observed vendors.\n",
    "\n",
    "3. Supplier Relationships:\n",
    "   - Positive correlation between two suppliers suggests that when one has high sales, the other tends to have high sales as well.\n",
    "   - Negative correlation, as seen with Metro and Walmart, indicates that when one supplier has high sales, the other tends to have low sales.\n",
    "\n",
    "\n",
    "\n",
    "These conclusions provide a starting point for deeper analysis and potentially inform strategic decisions for businesses involved in the sale of vegetables. Further analysis and predictive modeling can be undertaken to develop a more comprehensive understanding of the factors influencing vegetable sales."
   ]
  },
  {
   "cell_type": "markdown",
   "metadata": {},
   "source": [
    "Recommendations/Implications"
   ]
  },
  {
   "cell_type": "markdown",
   "metadata": {},
   "source": [
    "\n",
    "   - Businesses may want to adjust their inventory and marketing strategies based on seasonal variations, focusing on the specific vegetables that perform well during certain seasons.\n",
    "   - Pricing strategies should take into account the observed peaks in vegetable prices during late summer and early monsoon seasons.\n",
    "   - The decline in sales during the later months could prompt further investigation into potential factors affecting customer behavior."
   ]
  },
  {
   "cell_type": "markdown",
   "metadata": {},
   "source": []
  }
 ],
 "metadata": {
  "kernelspec": {
   "display_name": "learn-env",
   "language": "python",
   "name": "python3"
  },
  "language_info": {
   "codemirror_mode": {
    "name": "ipython",
    "version": 3
   },
   "file_extension": ".py",
   "mimetype": "text/x-python",
   "name": "python",
   "nbconvert_exporter": "python",
   "pygments_lexer": "ipython3",
   "version": "3.8.5"
  }
 },
 "nbformat": 4,
 "nbformat_minor": 2
}
